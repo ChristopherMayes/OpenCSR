{
 "cells": [
  {
   "cell_type": "markdown",
   "metadata": {},
   "source": [
    "# Minimal notebook to run in parallel"
   ]
  },
  {
   "cell_type": "code",
   "execution_count": 31,
   "metadata": {},
   "outputs": [],
   "source": [
    "from pytao import evaluate_tao\n",
    "from distgen import Generator\n",
    "from pmd_beamphysics import ParticleGroup, particle_paths\n",
    "\n",
    "from h5py import File\n",
    "import numpy as np\n",
    "import sys\n",
    "import os\n",
    "import tempfile \n",
    "import json\n"
   ]
  },
  {
   "cell_type": "code",
   "execution_count": 32,
   "metadata": {},
   "outputs": [],
   "source": [
    "ROOT = os.path.abspath(os.getcwd())\n",
    "APATH=os.path.join(ROOT, 'archive')\n",
    "INIT = os.path.join(ROOT, 'template/tao.init')\n",
    "assert os.path.exists(INIT)\n",
    "assert os.path.exists(APATH)\n",
    "\n",
    "N_CHECKPOINT = 1\n",
    "\n",
    "OUTFILE = os.path.join('summary.json')"
   ]
  },
  {
   "cell_type": "code",
   "execution_count": 33,
   "metadata": {},
   "outputs": [],
   "source": [
    "def get_bunch(afile, ix=3):\n",
    "    with File(afile, 'r') as h5:\n",
    "        ppaths = particle_paths(h5)\n",
    "        P = ParticleGroup(h5[ppaths[ix]])\n",
    "    return P"
   ]
  },
  {
   "cell_type": "code",
   "execution_count": 34,
   "metadata": {},
   "outputs": [],
   "source": [
    "def calc1(afile):\n",
    "    \n",
    "    tdir = tempfile.TemporaryDirectory()\n",
    "    pfile= os.path.join(tdir.name, 'BC2BEG.beam0')\n",
    "      \n",
    "    P0 = get_bunch(afile, ix=3) # BC@BEG\n",
    "    P0.write_bmad(pfile, t_ref=P0['mean_t'], p0c=5e9)\n",
    "    \n",
    "    # Tao\n",
    "    res = evaluate_tao(settings={\n",
    "                    'bmad_com:csr_and_space_charge_on': True,\n",
    "                    'csr_param:write_csr_wake':True,\n",
    "                    'csr_param:ds_track_step': 0.001,\n",
    "                    'csr_param:n_bin': 200,\n",
    "                    'beam:beam_saved_at': 'BEG_BX24,BX24',\n",
    "                    'beam_init:position_file': pfile},\n",
    "             run_commands=[\n",
    "                 'set ele * space_charge_method = off',\n",
    "                 'set ele BX24:DM23B CSR_METHOD  = 1_dim',\n",
    "                 'set global track_type=beam'],\n",
    "             expressions=['beam::norm_emit.x[ENDBC2]', 'beam::norm_emit.y[ENDBC2]', 'beam::sigma.z[ENDBC2]'],\n",
    "             beam_archive_path='archive',\n",
    "             archive_csr_wake=True,                       \n",
    "             input_file=INIT, ploton=False)\n",
    "    \n",
    "    res['original_archive'] = afile\n",
    "    \n",
    "    return res"
   ]
  },
  {
   "cell_type": "code",
   "execution_count": 35,
   "metadata": {},
   "outputs": [],
   "source": [
    "AFILES = ['bmad_beam_e29b428eeafe83372a5dbf0f437a0de0.h5', 'bmad_beam_3ef270fdbea59d7237bf619276db0bbe.h5']"
   ]
  },
  {
   "cell_type": "code",
   "execution_count": 36,
   "metadata": {},
   "outputs": [],
   "source": [
    "# debug:\n",
    "if False:\n",
    "    RES = calc1(AFILES[0])\n",
    "    json.dump(RES, open(OUTFILE, 'w'))"
   ]
  },
  {
   "cell_type": "code",
   "execution_count": 37,
   "metadata": {},
   "outputs": [
    {
     "name": "stdout",
     "output_type": "stream",
     "text": [
      "here\n"
     ]
    },
    {
     "ename": "AttributeError",
     "evalue": "Can't get attribute 'calc1' on <module '__worker__'>",
     "output_type": "error",
     "traceback": [
      "\u001b[0;31m---------------------------------------------------------------------------\u001b[0m",
      "\u001b[0;31mAttributeError\u001b[0m                            Traceback (most recent call last)",
      "\u001b[0;32m<ipython-input-37-58cb2026159f>\u001b[0m in \u001b[0;36m<module>\u001b[0;34m\u001b[0m\n\u001b[1;32m     11\u001b[0m \u001b[0;34m\u001b[0m\u001b[0m\n\u001b[1;32m     12\u001b[0m         \u001b[0mresults\u001b[0m \u001b[0;34m=\u001b[0m \u001b[0;34m[\u001b[0m\u001b[0;34m]\u001b[0m\u001b[0;34m\u001b[0m\u001b[0;34m\u001b[0m\u001b[0m\n\u001b[0;32m---> 13\u001b[0;31m         \u001b[0;32mfor\u001b[0m \u001b[0mres\u001b[0m \u001b[0;32min\u001b[0m \u001b[0mfutures\u001b[0m\u001b[0;34m:\u001b[0m\u001b[0;34m\u001b[0m\u001b[0;34m\u001b[0m\u001b[0m\n\u001b[0m\u001b[1;32m     14\u001b[0m             \u001b[0mresults\u001b[0m\u001b[0;34m.\u001b[0m\u001b[0mappend\u001b[0m\u001b[0;34m(\u001b[0m\u001b[0mres\u001b[0m\u001b[0;34m)\u001b[0m\u001b[0;34m\u001b[0m\u001b[0;34m\u001b[0m\u001b[0m\n\u001b[1;32m     15\u001b[0m \u001b[0;34m\u001b[0m\u001b[0m\n",
      "\u001b[0;32m~/Code/miniconda3/envs/devel/lib/python3.8/site-packages/mpi4py/futures/pool.py\u001b[0m in \u001b[0;36mresult_iterator\u001b[0;34m()\u001b[0m\n\u001b[1;32m    205\u001b[0m                 \u001b[0;32mif\u001b[0m \u001b[0mtimeout\u001b[0m \u001b[0;32mis\u001b[0m \u001b[0;32mNone\u001b[0m\u001b[0;34m:\u001b[0m\u001b[0;34m\u001b[0m\u001b[0;34m\u001b[0m\u001b[0m\n\u001b[1;32m    206\u001b[0m                     \u001b[0;32mwhile\u001b[0m \u001b[0mfutures\u001b[0m\u001b[0;34m:\u001b[0m\u001b[0;34m\u001b[0m\u001b[0;34m\u001b[0m\u001b[0m\n\u001b[0;32m--> 207\u001b[0;31m                         \u001b[0;32myield\u001b[0m \u001b[0mfutures\u001b[0m\u001b[0;34m.\u001b[0m\u001b[0mpop\u001b[0m\u001b[0;34m(\u001b[0m\u001b[0;34m)\u001b[0m\u001b[0;34m.\u001b[0m\u001b[0mresult\u001b[0m\u001b[0;34m(\u001b[0m\u001b[0;34m)\u001b[0m\u001b[0;34m\u001b[0m\u001b[0;34m\u001b[0m\u001b[0m\n\u001b[0m\u001b[1;32m    208\u001b[0m                 \u001b[0;32melse\u001b[0m\u001b[0;34m:\u001b[0m\u001b[0;34m\u001b[0m\u001b[0;34m\u001b[0m\u001b[0m\n\u001b[1;32m    209\u001b[0m                     \u001b[0;32mwhile\u001b[0m \u001b[0mfutures\u001b[0m\u001b[0;34m:\u001b[0m\u001b[0;34m\u001b[0m\u001b[0;34m\u001b[0m\u001b[0m\n",
      "\u001b[0;32m~/Code/miniconda3/envs/devel/lib/python3.8/concurrent/futures/_base.py\u001b[0m in \u001b[0;36mresult\u001b[0;34m(self, timeout)\u001b[0m\n\u001b[1;32m    437\u001b[0m                 \u001b[0;32mraise\u001b[0m \u001b[0mCancelledError\u001b[0m\u001b[0;34m(\u001b[0m\u001b[0;34m)\u001b[0m\u001b[0;34m\u001b[0m\u001b[0;34m\u001b[0m\u001b[0m\n\u001b[1;32m    438\u001b[0m             \u001b[0;32melif\u001b[0m \u001b[0mself\u001b[0m\u001b[0;34m.\u001b[0m\u001b[0m_state\u001b[0m \u001b[0;34m==\u001b[0m \u001b[0mFINISHED\u001b[0m\u001b[0;34m:\u001b[0m\u001b[0;34m\u001b[0m\u001b[0;34m\u001b[0m\u001b[0m\n\u001b[0;32m--> 439\u001b[0;31m                 \u001b[0;32mreturn\u001b[0m \u001b[0mself\u001b[0m\u001b[0;34m.\u001b[0m\u001b[0m__get_result\u001b[0m\u001b[0;34m(\u001b[0m\u001b[0;34m)\u001b[0m\u001b[0;34m\u001b[0m\u001b[0;34m\u001b[0m\u001b[0m\n\u001b[0m\u001b[1;32m    440\u001b[0m             \u001b[0;32melse\u001b[0m\u001b[0;34m:\u001b[0m\u001b[0;34m\u001b[0m\u001b[0;34m\u001b[0m\u001b[0m\n\u001b[1;32m    441\u001b[0m                 \u001b[0;32mraise\u001b[0m \u001b[0mTimeoutError\u001b[0m\u001b[0;34m(\u001b[0m\u001b[0;34m)\u001b[0m\u001b[0;34m\u001b[0m\u001b[0;34m\u001b[0m\u001b[0m\n",
      "\u001b[0;32m~/Code/miniconda3/envs/devel/lib/python3.8/concurrent/futures/_base.py\u001b[0m in \u001b[0;36m__get_result\u001b[0;34m(self)\u001b[0m\n\u001b[1;32m    386\u001b[0m     \u001b[0;32mdef\u001b[0m \u001b[0m__get_result\u001b[0m\u001b[0;34m(\u001b[0m\u001b[0mself\u001b[0m\u001b[0;34m)\u001b[0m\u001b[0;34m:\u001b[0m\u001b[0;34m\u001b[0m\u001b[0;34m\u001b[0m\u001b[0m\n\u001b[1;32m    387\u001b[0m         \u001b[0;32mif\u001b[0m \u001b[0mself\u001b[0m\u001b[0;34m.\u001b[0m\u001b[0m_exception\u001b[0m\u001b[0;34m:\u001b[0m\u001b[0;34m\u001b[0m\u001b[0;34m\u001b[0m\u001b[0m\n\u001b[0;32m--> 388\u001b[0;31m             \u001b[0;32mraise\u001b[0m \u001b[0mself\u001b[0m\u001b[0;34m.\u001b[0m\u001b[0m_exception\u001b[0m\u001b[0;34m\u001b[0m\u001b[0;34m\u001b[0m\u001b[0m\n\u001b[0m\u001b[1;32m    389\u001b[0m         \u001b[0;32melse\u001b[0m\u001b[0;34m:\u001b[0m\u001b[0;34m\u001b[0m\u001b[0;34m\u001b[0m\u001b[0m\n\u001b[1;32m    390\u001b[0m             \u001b[0;32mreturn\u001b[0m \u001b[0mself\u001b[0m\u001b[0;34m.\u001b[0m\u001b[0m_result\u001b[0m\u001b[0;34m\u001b[0m\u001b[0;34m\u001b[0m\u001b[0m\n",
      "\u001b[0;31mAttributeError\u001b[0m: Can't get attribute 'calc1' on <module '__worker__'>"
     ]
    }
   ],
   "source": [
    "from mpi4py.futures import MPIPoolExecutor\n",
    "from mpi4py import MPI\n",
    "comm = MPI.COMM_WORLD\n",
    "mpi_rank = comm.Get_rank()\n",
    "mpi_size = comm.Get_size()\n",
    "\n",
    "if __name__ == \"__main__\":\n",
    "    print('_________________________________')\n",
    "    print('Parallel execution with', mpi_size, 'workers')\n",
    "\n",
    "    with MPIPoolExecutor() as executor:        \n",
    "        inputs = AFILES\n",
    "        \n",
    "        NMAX = len(inputs)\n",
    "        print(NMAX, 'inputs to process')\n",
    "        \n",
    "        futures = executor.map(calc1, inputs)\n",
    "        \n",
    "        results = []\n",
    "        ii = 0\n",
    "        for res in futures:\n",
    "            results.append(res)\n",
    "            ii += 1\n",
    "            \n",
    "            # \n",
    "            if ii % N_CHECKPOINT == 0:\n",
    "                print(f'{ii} finished out of {NMAX}')\n",
    "                sys.stdout.flush()\n",
    "                \n",
    "            \n",
    "            \n",
    "        # Write output\n",
    "        json.dump(results, open(OUTFILE, 'w'))  \n",
    "        print('Done. Results written to:', OUTFILE)"
   ]
  },
  {
   "cell_type": "code",
   "execution_count": 23,
   "metadata": {},
   "outputs": [],
   "source": [
    "## convert to notebook with: \n",
    "# jupyter nbconvert --to script run.ipynb"
   ]
  },
  {
   "cell_type": "code",
   "execution_count": 24,
   "metadata": {},
   "outputs": [],
   "source": [
    "## run with:\n",
    "# mpirun -n 2 python -m mpi4py.futures run.py"
   ]
  },
  {
   "cell_type": "code",
   "execution_count": null,
   "metadata": {},
   "outputs": [],
   "source": []
  }
 ],
 "metadata": {
  "kernelspec": {
   "display_name": "Python 3",
   "language": "python",
   "name": "python3"
  },
  "language_info": {
   "codemirror_mode": {
    "name": "ipython",
    "version": 3
   },
   "file_extension": ".py",
   "mimetype": "text/x-python",
   "name": "python",
   "nbconvert_exporter": "python",
   "pygments_lexer": "ipython3",
   "version": "3.8.5"
  }
 },
 "nbformat": 4,
 "nbformat_minor": 4
}
