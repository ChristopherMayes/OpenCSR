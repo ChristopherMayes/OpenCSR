{
 "cells": [
  {
   "cell_type": "markdown",
   "metadata": {},
   "source": [
    "# LCLS cu_bc2 csr_wake creation"
   ]
  },
  {
   "cell_type": "code",
   "execution_count": null,
   "metadata": {},
   "outputs": [],
   "source": [
    "from pytao import evaluate_tao\n",
    "from distgen import Generator\n",
    "from pmd_beamphysics import ParticleGroup, particle_paths\n",
    "\n",
    "from h5py import File\n",
    "import numpy as np\n",
    "import os\n",
    "import tempfile \n",
    "\n",
    "import matplotlib.pyplot as plt\n",
    "import matplotlib\n",
    "matplotlib.rcParams['figure.figsize'] = (12,8)\n",
    "%config InlineBackend.figure_format = 'retina'\n",
    "\n",
    "c_light = 299792458."
   ]
  },
  {
   "cell_type": "code",
   "execution_count": null,
   "metadata": {},
   "outputs": [],
   "source": [
    "# Test archive file\n",
    "\n",
    "AFILE0 = 'bmad_beam_e29b428eeafe83372a5dbf0f437a0de0.h5'\n",
    "#AFILE0 = 'bmad_beam_3ef270fdbea59d7237bf619276db0bbe.h5'"
   ]
  },
  {
   "cell_type": "code",
   "execution_count": null,
   "metadata": {},
   "outputs": [],
   "source": [
    "def get_bunch(afile, ix=3):\n",
    "    with File(afile, 'r') as h5:\n",
    "        ppaths = particle_paths(h5)\n",
    "        P = ParticleGroup(h5[ppaths[ix]])\n",
    "    return P\n",
    "Pi= get_bunch(AFILE0, ix=3)\n",
    "Pf= get_bunch(AFILE0, ix=4)"
   ]
  },
  {
   "cell_type": "code",
   "execution_count": null,
   "metadata": {},
   "outputs": [],
   "source": [
    "Pf.plot('t', 'p')"
   ]
  },
  {
   "cell_type": "code",
   "execution_count": null,
   "metadata": {},
   "outputs": [],
   "source": [
    "P0 = Pi.copy()\n",
    "P0.t -= P0['mean_t']\n",
    "P0.plot('t', 'p')"
   ]
  },
  {
   "cell_type": "code",
   "execution_count": null,
   "metadata": {},
   "outputs": [],
   "source": [
    "P0.write_bmad('BEGBC2.beam0', t_ref=P0['mean_t'], p0c=5e9)"
   ]
  },
  {
   "cell_type": "code",
   "execution_count": null,
   "metadata": {},
   "outputs": [],
   "source": [
    "P1 = ParticleGroup('BX23.h5')\n",
    "P1.plot('delta_t', 'p')\n",
    "P1['norm_emit_x']"
   ]
  },
  {
   "cell_type": "code",
   "execution_count": null,
   "metadata": {},
   "outputs": [],
   "source": [
    "P1.plot('x', 'px')"
   ]
  },
  {
   "cell_type": "code",
   "execution_count": null,
   "metadata": {},
   "outputs": [],
   "source": [
    "with tempfile.TemporaryDirectory() as fp:\n",
    "    fp.write(b'a')"
   ]
  },
  {
   "cell_type": "code",
   "execution_count": null,
   "metadata": {},
   "outputs": [],
   "source": [
    "ROOT = os.path.abspath(os.getcwd())\n",
    "APATH=os.path.join(ROOT, 'archive')\n",
    "INIT = os.path.join(ROOT, 'template/tao.init')\n",
    "os.path.exists(INIT)"
   ]
  },
  {
   "cell_type": "code",
   "execution_count": null,
   "metadata": {},
   "outputs": [],
   "source": [
    "%%time\n",
    "\n",
    "def calc1(afile):\n",
    "    \n",
    "    tdir = tempfile.TemporaryDirectory()\n",
    "    pfile= os.path.join(tdir.name, 'BC2BEG.beam0')\n",
    "      \n",
    "    P0 = get_bunch(afile, ix=3) # BC@BEG\n",
    "    P0.write_bmad(pfile, t_ref=P0['mean_t'], p0c=5e9)\n",
    "    \n",
    "    # Tao\n",
    "    res = evaluate_tao(settings={\n",
    "                    'bmad_com:csr_and_space_charge_on': True,\n",
    "                    'csr_param:write_csr_wake':True,\n",
    "                    'csr_param:ds_track_step': 0.001,\n",
    "                    'csr_param:n_bin': 200,\n",
    "                    'beam:beam_saved_at': 'BEG_BX24,BX24',\n",
    "                    'beam_init:position_file': pfile},\n",
    "             run_commands=[\n",
    "                 'set ele * space_charge_method = off',\n",
    "                 'set ele BX24:DM23B CSR_METHOD  = 1_dim',\n",
    "                 'set global track_type=beam'],\n",
    "             expressions=['beam::norm_emit.x[ENDBC2]', 'beam::norm_emit.y[ENDBC2]', 'beam::sigma.z[ENDBC2]'],\n",
    "             beam_archive_path='archive',\n",
    "             archive_csr_wake=True,                       \n",
    "             input_file=INIT, ploton=False)\n",
    "    \n",
    "    res['original_archive'] = afile\n",
    "    \n",
    "    return res\n",
    "    \n",
    "RES = calc1(AFILE0)  \n",
    "RES"
   ]
  },
  {
   "cell_type": "code",
   "execution_count": null,
   "metadata": {},
   "outputs": [],
   "source": [
    "!ls -ahl archive"
   ]
  },
  {
   "cell_type": "code",
   "execution_count": null,
   "metadata": {},
   "outputs": [],
   "source": [
    "from pytao.misc.csr import read_csr_wake_data_h5"
   ]
  },
  {
   "cell_type": "code",
   "execution_count": null,
   "metadata": {},
   "outputs": [],
   "source": [
    "with File(RES['beam_archive'], 'r') as h5:\n",
    "    print(list(h5))\n",
    "    print(dict(h5['data']['00002'].attrs))\n",
    "    cdat = read_csr_wake_data_h5(h5['csr_wake'])"
   ]
  },
  {
   "cell_type": "code",
   "execution_count": null,
   "metadata": {},
   "outputs": [],
   "source": [
    "cdat.keys()"
   ]
  },
  {
   "cell_type": "code",
   "execution_count": null,
   "metadata": {},
   "outputs": [],
   "source": [
    "dat = np.concatenate([cdat[key]['data'] for key in list(cdat) ])"
   ]
  },
  {
   "cell_type": "code",
   "execution_count": null,
   "metadata": {},
   "outputs": [],
   "source": [
    "sdat = np.concatenate([cdat[key]['s_positions'] for key in list(cdat) ])\n",
    "len(sdat)"
   ]
  },
  {
   "cell_type": "code",
   "execution_count": null,
   "metadata": {},
   "outputs": [],
   "source": [
    "def plot1(step=0):\n",
    "    \n",
    "    fig, ax = plt.subplots()\n",
    "    z = dat[step,:,0]*1e3\n",
    "    ax.set_xlabel('z (mm)')\n",
    "    ax.set_ylabel('CSR Kick/m')\n",
    "    density =  dat[step,:,1]\n",
    "    kick = dat[step,:,2]\n",
    "    \n",
    "    zmin = np.min(dat[:,:,0])*1e3\n",
    "    zmax = np.max(dat[:,:,0])*1e3\n",
    "    \n",
    "    \n",
    "    avkick = np.sum(kick*density)/np.sum(density)\n",
    "    stdkick = np.sqrt(np.sum( kick**2*density)/np.sum(density) - avkick**2)\n",
    "    plt.plot([zmin, zmax], 2*[avkick], linestyle='dashed', color='black')\n",
    "    plt.plot([zmin, zmax], 2*[stdkick+avkick],   linestyle='dotted', color='grey')\n",
    "    plt.plot([zmin, zmax], 2*[-stdkick+avkick ], linestyle='dotted', color='grey')\n",
    "    \n",
    "    ax.plot(z, kick, color='black')\n",
    "    \n",
    "    kmin = np.min(dat[:,:,2])\n",
    "    kmax = np.max(dat[:,:,2])\n",
    "    \n",
    "    ax.set_ylim(kmin, kmax)\n",
    "    ax2 = ax.twinx()\n",
    "    ax2.set_ylabel('density')\n",
    "    ax2.plot(z, density, color='red')\n",
    "    \n",
    "plot1(step=-1)"
   ]
  },
  {
   "cell_type": "code",
   "execution_count": null,
   "metadata": {},
   "outputs": [],
   "source": [
    "from ipywidgets import interact\n",
    "\n",
    "interact(plot1, step=(0, len(dat)-1, 1) )"
   ]
  },
  {
   "cell_type": "code",
   "execution_count": null,
   "metadata": {},
   "outputs": [],
   "source": [
    "def stats(step=0):\n",
    "    \n",
    " \n",
    "    z = dat[step,:,0]\n",
    "    zmax = z.max()\n",
    "    zmin = z.min()\n",
    "    nz = len(z)\n",
    "    dz = z.ptp()/(nz-1)\n",
    "    density =  dat[step,:,1]\n",
    "    qtot = np.sum(density)*dz\n",
    "    # Normalize\n",
    "    density /= np.sum(density)    \n",
    "    \n",
    "    avz = np.sum(z*density)\n",
    "    stdz = np.sqrt(np.sum(z**2*density) - avz**2)\n",
    "    \n",
    "    kick = dat[step,:,2]    \n",
    "    avkick = np.sum(kick*density)\n",
    "    stdkick = np.sqrt(np.sum( kick**2*density) - avkick**2)\n",
    "    return avkick, stdkick, avz, stdz"
   ]
  },
  {
   "cell_type": "code",
   "execution_count": null,
   "metadata": {},
   "outputs": [],
   "source": [
    "STATS = np.array([stats(i) for i in range(len(dat))])"
   ]
  },
  {
   "cell_type": "code",
   "execution_count": null,
   "metadata": {},
   "outputs": [],
   "source": [
    "fig, ax = plt.subplots()\n",
    "ax.set_xlabel('s (m)')\n",
    "ax.set_ylabel('CSR Kick/m')\n",
    "ax.plot(sdat, STATS[:,0], color='black', label='Average Wake')\n",
    "ax.plot(sdat, STATS[:,1], color='red', label='std Wake')\n",
    "\n",
    "ax2 = ax.twinx()\n",
    "ax2.plot(sdat, STATS[:,3]*1e15/c_light, color='blue', label='$\\sigma_z/c (fs)$')\n",
    "ax2.set_ylabel('$\\sigma_z/c (fs)$')\n",
    "ax.legend()"
   ]
  },
  {
   "cell_type": "code",
   "execution_count": null,
   "metadata": {},
   "outputs": [],
   "source": []
  }
 ],
 "metadata": {
  "kernelspec": {
   "display_name": "devel",
   "language": "python",
   "name": "devel"
  },
  "language_info": {
   "codemirror_mode": {
    "name": "ipython",
    "version": 3
   },
   "file_extension": ".py",
   "mimetype": "text/x-python",
   "name": "python",
   "nbconvert_exporter": "python",
   "pygments_lexer": "ipython3",
   "version": "3.8.5"
  }
 },
 "nbformat": 4,
 "nbformat_minor": 4
}
